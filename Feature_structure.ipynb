{
 "cells": [
  {
   "cell_type": "code",
   "execution_count": null,
   "id": "19c8e1bd",
   "metadata": {},
   "outputs": [],
   "source": [
    "import pandas as pd\n",
    "import numpy as np\n",
    "from statsmodels.formula.api import ols\n",
    "from statsmodels.stats.anova import anova_lm\n",
    "from statsmodels.stats.multicomp import MultiComparison\n",
    "import sys\n",
    "from boruta import BorutaPy"
   ]
  },
  {
   "cell_type": "code",
   "execution_count": null,
   "id": "9fe38acf",
   "metadata": {},
   "outputs": [],
   "source": [
    "inpath = sys.argv[1]\n",
    "file_name=inpath.split('/')[9].split('.')[0]\n",
    "m = pd.read_csv(inpath, delimiter=\"\\t\", index_col=0, header=None)"
   ]
  },
  {
   "cell_type": "code",
   "execution_count": null,
   "id": "dc29dee8",
   "metadata": {},
   "outputs": [],
   "source": [
    "m = m.T\n",
    "X = m.loc[:, m.columns != 'sample']  # data\n",
    "X = X.T  # index=cg\n",
    "y = m.loc[:, m.columns == 'sample'].values.ravel()  # label\n",
    "df = pd.DataFrame()\n",
    "f_g1=[]\n",
    "f_g2=[]\n",
    "f_g3=[]\n",
    "f_g4=[]\n",
    "f_g5=[]\n",
    "f_g6=[]\n",
    "f_g7=[]\n",
    "f_g8=[]\n",
    "f_g9=[]\n",
    "f_g10=[]\n",
    "f_g11=[]"
   ]
  },
  {
   "cell_type": "code",
   "execution_count": null,
   "id": "99afabd5",
   "metadata": {},
   "outputs": [],
   "source": [
    "for index,row in X.iterrows():  ##ANOVA, Tukey-kramer\n",
    "    temp = pd.DataFrame()\n",
    "    buff = pd.to_numeric(list(row))\n",
    "    CpG = index  \n",
    "    temp['beta'] = buff\n",
    "    temp['Type'] = y  # label\n",
    "    model = ols('beta~Type', data=temp).fit()\n",
    "    anovat = anova_lm(model)\n",
    "    anovat_p = anovat['PR(>F)'][0]\n",
    "    if anovat_p<0.05:\n",
    "        mc = MultiComparison(temp['beta'], temp['Type'])\n",
    "        mc_results = mc.tukeyhsd(alpha=0.01)  # unequal sample size data, tukey_hsd uses Tukey-Kramer test\n",
    "        result = pd.DataFrame(mc_results._results_table.data[1:len(mc_results._results_table.data)],\n",
    "                              columns=mc_results._results_table.data[0])\n",
    "        result['CpG'] = CpG\n",
    "        n=result[result['reject']==True]\n",
    "\n",
    "        df = pd.concat([df, n])\n",
    "\n",
    "        condition = abs(n['meandiff'])>= 0.2\n",
    "        n=n[condition]\n",
    "        list_a = n['group1'].tolist()\n",
    "        list_b = n['group2'].tolist()\n",
    "        list_a.extend(list_b)\n",
    "        if list_a.count('group-1')>=11:\n",
    "            f_g1.append(CpG)\n",
    "        if list_a.count('group-2')>=11:\n",
    "            f_g2.append(CpG)\n",
    "        if list_a.count('group-3')>=11:\n",
    "            f_g3.append(CpG)\n",
    "        if list_a.count('group-4')>=11:\n",
    "            f_g4.append(CpG)\n",
    "        if list_a.count('group-5')>=11:\n",
    "            f_g5.append(CpG)\n",
    "        if list_a.count('group-6')>=11:\n",
    "            f_g6.append(CpG)\n",
    "        if list_a.count('group-7')>=11:\n",
    "            f_g7.append(CpG)\n",
    "        if list_a.count('group-8')>=11:\n",
    "            f_g8.append(CpG)\n",
    "        if list_a.count('group-9')>=11:\n",
    "            f_g9.append(CpG)\n",
    "        if list_a.count('group-10')>=11:\n",
    "            f_g10.append(CpG)\n",
    "        if list_a.count('group-11')>=11:\n",
    "            f_g11.append(CpG)\n",
    "        \"\"\"if list_a.count('group-12')>=11:\n",
    "            f_g12.append(CpG)\"\"\"\n",
    "    else:\n",
    "        continue"
   ]
  },
  {
   "cell_type": "code",
   "execution_count": null,
   "id": "95258452",
   "metadata": {},
   "outputs": [],
   "source": [
    "f=open('/group1-F/'+file_name+'_1.txt','w')##download the markers after ANOVA, Tukey-Kramer test\n",
    "#f=open('C:\\\\Users\\\\Think\\\\Desktop\\\\1.txt','w')\n",
    "f.write(str(f_g1))\n",
    "f.close()\n",
    "f=open('group2-F/'+file_name+'_2.txt','w')\n",
    "#f=open('C:\\\\Users\\\\Think\\\\Desktop\\\\2.txt','w')\n",
    "f.write(str(f_g2))\n",
    "f.close()\n",
    "f=open('group3-F/'+file_name+'_3.txt','w')\n",
    "f.write(str(f_g3))\n",
    "f.close()\n",
    "f=open('group4-F/'+file_name+'_4.txt','w')\n",
    "f.write(str(f_g4))\n",
    "f.close()\n",
    "f=open('group5-F/'+file_name+'_5.txt','w')\n",
    "f.write(str(f_g5))\n",
    "f.close()\n",
    "f=open('group6-F/'+file_name+'_6.txt','w')\n",
    "f.write(str(f_g6))\n",
    "f.close()\n",
    "f=open('group7-F/'+file_name+'_7.txt','w')\n",
    "f.write(str(f_g7))\n",
    "f.close()\n",
    "f=open('group8-F/'+file_name+'_8.txt','w')\n",
    "f.write(str(f_g8))\n",
    "f.close()\n",
    "f=open('group9-F/'+file_name+'_9.txt','w')\n",
    "f.write(str(f_g9))\n",
    "f.close()\n",
    "f=open('group10-F/'+file_name+'_10.txt','w')\n",
    "f.write(str(f_g10))\n",
    "f.close()\n",
    "f=open('group11-F/'+file_name+'_11.txt','w')\n",
    "f.write(str(f_g11))\n",
    "f.close()\n",
    "f=open('group12-F/'+file_name+'_12.txt','w')\n",
    "f.write(str(f_g12))\n",
    "f.close()\n",
    "df.to_csv('tukey_val/'+file_name+'Tukey_all.csv', sep='\\t', na_rep='NA')\n"
   ]
  },
  {
   "cell_type": "markdown",
   "id": "8cd88ee5",
   "metadata": {},
   "source": [
    "Next, the sample after the ANOVA test, Tukey-kramer, is read for Boruta feature selection"
   ]
  },
  {
   "cell_type": "code",
   "execution_count": null,
   "id": "642b95e7",
   "metadata": {},
   "outputs": [],
   "source": [
    "m = pd.read_csv(sample, delimiter=\"\\t\", index_col=0, header=None).T\n",
    "f = open('group_12.txt', 'r')\n",
    "fl = eval(f.read())\n",
    "feature_list=['sample']\n",
    "feature_list.extend(fl)\n",
    "m=m.T.loc[feature_list,:]\n",
    "X = m.loc[:, m.columns != '0']\n",
    "y = m.loc[:, m.columns == '0'].values.ravel()"
   ]
  },
  {
   "cell_type": "code",
   "execution_count": null,
   "id": "e1ab7489",
   "metadata": {},
   "outputs": [],
   "source": [
    "rfc = RandomForestClassifier(n_estimators=100, random_state=12,n_jobs=-1,class_weight='balanced') #Boruta\n",
    "feat_selector = BorutaPy(rfc, n_estimators='auto', verbose=2)\n",
    "feat_selector.fit(np.array(X), np.array(y))"
   ]
  },
  {
   "cell_type": "code",
   "execution_count": null,
   "id": "cc9ccf4f",
   "metadata": {},
   "outputs": [],
   "source": [
    "a = m.columns[1:]#download marker after boruta\n",
    "print(a[feat_selector.support_].tolist())\n",
    "print(len(a[feat_selector.support_]))\n",
    "f = open(\"F:\\\\classifiation\\\\group11_tubo.txt\", 'w')\n",
    "f.write(str(a[feat_selector.support_].tolist()))\n",
    "f.close()"
   ]
  }
 ],
 "metadata": {
  "kernelspec": {
   "display_name": "Python 3 (ipykernel)",
   "language": "python",
   "name": "python3"
  },
  "language_info": {
   "codemirror_mode": {
    "name": "ipython",
    "version": 3
   },
   "file_extension": ".py",
   "mimetype": "text/x-python",
   "name": "python",
   "nbconvert_exporter": "python",
   "pygments_lexer": "ipython3",
   "version": "3.8.18"
  }
 },
 "nbformat": 4,
 "nbformat_minor": 5
}
