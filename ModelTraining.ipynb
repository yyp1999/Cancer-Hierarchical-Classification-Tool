{
 "cells": [
  {
   "cell_type": "code",
   "execution_count": null,
   "id": "9378cdae",
   "metadata": {},
   "outputs": [],
   "source": [
    "import pandas as pd\n",
    "from sklearn.ensemble import RandomForestClassifier\n",
    "import numpy as np\n",
    "from sklearn.model_selection import train_test_split, cross_val_score\n",
    "from sklearn.metrics import classification_report,roc_auc_score,roc_curve, auc\n",
    "import joblib\n",
    "\"\"\"import matplotlib.pyplot as plt\n",
    "import sklearn.metrics as metrics\n",
    "from sklearn import preprocessing\n",
    "from sklearn.preprocessing import label_binarize\n",
    "from scipy import interp\n",
    "from itertools import cycle\"\"\""
   ]
  },
  {
   "cell_type": "code",
   "execution_count": null,
   "id": "38ca8000",
   "metadata": {},
   "outputs": [],
   "source": [
    "def save_classification_report(y_true,y_pred,target_names,save_path):\n",
    "    acc_report_df = pd.DataFrame(classification_report(y_true, y_pred, target_names=target_names,output_dict=True)).T\n",
    "    acc_report_df.iloc[-3,:2]= np.nan\n",
    "    acc_report_df.iloc[-3,3]= acc_report_df.iloc[-2,3]\n",
    "    # acc_report_df.iloc[-3,2]= np.nan\n",
    "    acc_report_df.to_csv(save_path)\n",
    "    return acc_report_df.round(4)\n",
    "def plot_ROC(labels,preds,savepath):\n",
    "    \"\"\"\n",
    "    Args:\n",
    "        labels : ground truth\n",
    "        preds : model prediction\n",
    "        savepath : save path \n",
    "    \"\"\"\n",
    "    fpr1, tpr1, threshold1 = metrics.roc_curve(labels, preds)  \n",
    "    \n",
    "    roc_auc1 = metrics.auc(fpr1, tpr1)  \n",
    "    plt.figure()\n",
    "    lw = 2\n",
    "    plt.figure(figsize=(10, 10))\n",
    "    plt.plot(fpr1, tpr1,  color='#ff7f0e', lw=lw,\n",
    "                 label='ROC curve of group-8 (area = {:.3f})'\n",
    "                 ''.format(roc_auc1))  \n",
    "    plt.plot([0, 1], [0, 1], lw=lw, linestyle='--')\n",
    "    plt.xlim([-0.05, 1.05])\n",
    "    plt.ylim([-0.05, 1.05])\n",
    "    plt.xlabel('1 - Specificity')\n",
    "    plt.ylabel('Sensitivity')\n",
    "    plt.title('ROCs for group-8')\n",
    "    plt.legend(loc=\"lower right\")\n",
    "    #plt.show()\n",
    "    plt.savefig(savepath) "
   ]
  },
  {
   "cell_type": "code",
   "execution_count": null,
   "id": "97583a7b",
   "metadata": {},
   "outputs": [],
   "source": [
    "m = pd.read_csv('train.Primary', delimiter=\"\\t\", index_col=0, header=None).T\n",
    "n=pd.read_csv('test.Primary', delimiter=\"\\t\", index_col=0, header=None).T\n",
    "X_train = m.loc[:, m.columns != '0']\n",
    "y_train = m.loc[:, m.columns == '0'].values.ravel()\n",
    "X_test = n.loc[:, n.columns != '0']\n",
    "y_test = n.loc[:, n.columns == '0'].values.ravel()"
   ]
  },
  {
   "cell_type": "code",
   "execution_count": null,
   "id": "89e64b63",
   "metadata": {},
   "outputs": [],
   "source": [
    "rfc_100=RandomForestClassifier(n_estimators=200,random_state=100,class_weight='balanced')\n",
    "rfc_100.fit(X_train,y_train)\n",
    "path='E://rfmodel//firstlayer//firstlayer_100.model'\n",
    "joblib.dump(rfc_100, path)"
   ]
  },
  {
   "cell_type": "code",
   "execution_count": null,
   "id": "e9c4f13a",
   "metadata": {},
   "outputs": [],
   "source": [
    "y_pred = rfc_100.predict(X_test)\n",
    "true = np.sum(y_pred == y_test)\n",
    "print('The number of correctly predicted outcomes：', true)\n",
    "print('The number of incorrectly predicted outcomes：', y_test.shape[0] - true)\n",
    "from sklearn.metrics import accuracy_score, precision_score, recall_score, f1_score, cohen_kappa_score\n",
    "print('Accuracy： {:.4}%'.format(accuracy_score(y_test, y_pred) * 100))\n",
    "print(\"The accuracy under kernel  is %f\" % ( rfc_100.score(X_test, y_test))) \n",
    "    # 打印分类报告\n",
    "print('Classification report：', '\\n',classification_report(y_test, y_pred))"
   ]
  }
 ],
 "metadata": {
  "kernelspec": {
   "display_name": "Python 3 (ipykernel)",
   "language": "python",
   "name": "python3"
  },
  "language_info": {
   "codemirror_mode": {
    "name": "ipython",
    "version": 3
   },
   "file_extension": ".py",
   "mimetype": "text/x-python",
   "name": "python",
   "nbconvert_exporter": "python",
   "pygments_lexer": "ipython3",
   "version": "3.8.18"
  }
 },
 "nbformat": 4,
 "nbformat_minor": 5
}
